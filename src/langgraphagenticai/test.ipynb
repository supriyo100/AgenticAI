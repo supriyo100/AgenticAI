{
 "cells": [
  {
   "cell_type": "code",
   "execution_count": 1,
   "metadata": {},
   "outputs": [
    {
     "name": "stdout",
     "output_type": "stream",
     "text": [
      "ModelListResponse(data=[Model(id='llama3-70b-8192', created=1693721698, object='model', owned_by='Meta', active=True, context_window=8192, public_apps=None), Model(id='deepseek-r1-distill-qwen-32b', created=1738891590, object='model', owned_by='DeepSeek / Alibaba Cloud', active=True, context_window=131072, public_apps=None), Model(id='gemma2-9b-it', created=1693721698, object='model', owned_by='Google', active=True, context_window=8192, public_apps=None), Model(id='llama3-8b-8192', created=1693721698, object='model', owned_by='Meta', active=True, context_window=8192, public_apps=None), Model(id='llama-3.1-8b-instant', created=1693721698, object='model', owned_by='Meta', active=True, context_window=131072, public_apps=None), Model(id='llama-3.2-3b-preview', created=1727224290, object='model', owned_by='Meta', active=True, context_window=8192, public_apps=None), Model(id='llama-3.2-90b-vision-preview', created=1727226914, object='model', owned_by='Meta', active=True, context_window=8192, public_apps=None), Model(id='llama-3.2-1b-preview', created=1727224268, object='model', owned_by='Meta', active=True, context_window=8192, public_apps=None), Model(id='llama-3.3-70b-versatile', created=1733447754, object='model', owned_by='Meta', active=True, context_window=32768, public_apps=None), Model(id='qwen-qwq-32b', created=1741214760, object='model', owned_by='Alibaba Cloud', active=True, context_window=131072, public_apps=None), Model(id='allam-2-7b', created=1737672203, object='model', owned_by='SDAIA', active=True, context_window=4096, public_apps=None), Model(id='deepseek-r1-distill-llama-70b', created=1737924940, object='model', owned_by='DeepSeek / Meta', active=True, context_window=131072, public_apps=None), Model(id='llama-guard-3-8b', created=1693721698, object='model', owned_by='Meta', active=True, context_window=8192, public_apps=None), Model(id='distil-whisper-large-v3-en', created=1693721698, object='model', owned_by='Hugging Face', active=True, context_window=448, public_apps=None), Model(id='whisper-large-v3-turbo', created=1728413088, object='model', owned_by='OpenAI', active=True, context_window=448, public_apps=None), Model(id='whisper-large-v3', created=1693721698, object='model', owned_by='OpenAI', active=True, context_window=448, public_apps=None), Model(id='llama-3.3-70b-specdec', created=1733505017, object='model', owned_by='Meta', active=True, context_window=8192, public_apps=None), Model(id='llama-3.2-11b-vision-preview', created=1727226869, object='model', owned_by='Meta', active=True, context_window=8192, public_apps=None), Model(id='qwen-2.5-coder-32b', created=1739494572, object='model', owned_by='Alibaba Cloud', active=True, context_window=131072, public_apps=None), Model(id='qwen-2.5-32b', created=1738789898, object='model', owned_by='Alibaba Cloud', active=True, context_window=131072, public_apps=None), Model(id='mistral-saba-24b', created=1739996492, object='model', owned_by='Mistral AI', active=True, context_window=32768, public_apps=None)], object='list')\n"
     ]
    }
   ],
   "source": [
    "import groq\n",
    "\n",
    "client = groq.Client(api_key=\"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\")\n",
    "models = client.models.list()\n",
    "print(models)\n"
   ]
  },
  {
   "cell_type": "code",
   "execution_count": 13,
   "metadata": {},
   "outputs": [],
   "source": [
    "models_response = client.models.list()  # Fetch models"
   ]
  },
  {
   "cell_type": "code",
   "execution_count": 16,
   "metadata": {},
   "outputs": [],
   "source": [
    "models_response = client.models.list()  # Returns a ModelListResponse object\n",
    "models = [model.id for model in models_response.data]  # Access data correctly\n"
   ]
  },
  {
   "cell_type": "code",
   "execution_count": 17,
   "metadata": {},
   "outputs": [
    {
     "data": {
      "text/plain": [
       "['llama3-8b-8192',\n",
       " 'deepseek-r1-distill-llama-70b',\n",
       " 'llama-guard-3-8b',\n",
       " 'allam-2-7b',\n",
       " 'qwen-qwq-32b',\n",
       " 'llama-3.2-3b-preview',\n",
       " 'llama3-70b-8192',\n",
       " 'mistral-saba-24b',\n",
       " 'llama-3.1-8b-instant',\n",
       " 'whisper-large-v3-turbo',\n",
       " 'deepseek-r1-distill-qwen-32b',\n",
       " 'gemma2-9b-it',\n",
       " 'distil-whisper-large-v3-en',\n",
       " 'llama-3.2-90b-vision-preview',\n",
       " 'llama-3.2-1b-preview',\n",
       " 'llama-3.3-70b-versatile',\n",
       " 'llama-3.2-11b-vision-preview',\n",
       " 'qwen-2.5-coder-32b',\n",
       " 'whisper-large-v3',\n",
       " 'llama-3.3-70b-specdec',\n",
       " 'qwen-2.5-32b']"
      ]
     },
     "execution_count": 17,
     "metadata": {},
     "output_type": "execute_result"
    }
   ],
   "source": [
    "models"
   ]
  },
  {
   "cell_type": "code",
   "execution_count": 18,
   "metadata": {},
   "outputs": [
    {
     "name": "stdout",
     "output_type": "stream",
     "text": [
      "GROQ_MODEL_OPTIONS = qwen-2.5-coder-32b, llama-guard-3-8b, allam-2-7b, deepseek-r1-distill-llama-70b, llama3-8b-8192, whisper-large-v3, mistral-saba-24b, deepseek-r1-distill-qwen-32b, llama-3.2-3b-preview, whisper-large-v3-turbo, qwen-2.5-32b, llama-3.2-1b-preview, llama-3.2-90b-vision-preview, llama3-70b-8192, qwen-qwq-32b, llama-3.3-70b-versatile, distil-whisper-large-v3-en, llama-3.3-70b-specdec, llama-3.2-11b-vision-preview, llama-3.1-8b-instant, gemma2-9b-it\n"
     ]
    }
   ],
   "source": [
    "models_response = client.models.list()  # Fetch model list\n",
    "models = \", \".join(model.id for model in models_response.data)  # Format as a comma-separated string\n",
    "\n",
    "print(\"GROQ_MODEL_OPTIONS =\", models)\n"
   ]
  }
 ],
 "metadata": {
  "kernelspec": {
   "display_name": "Python 3",
   "language": "python",
   "name": "python3"
  },
  "language_info": {
   "codemirror_mode": {
    "name": "ipython",
    "version": 3
   },
   "file_extension": ".py",
   "mimetype": "text/x-python",
   "name": "python",
   "nbconvert_exporter": "python",
   "pygments_lexer": "ipython3",
   "version": "3.12.8"
  }
 },
 "nbformat": 4,
 "nbformat_minor": 2
}
